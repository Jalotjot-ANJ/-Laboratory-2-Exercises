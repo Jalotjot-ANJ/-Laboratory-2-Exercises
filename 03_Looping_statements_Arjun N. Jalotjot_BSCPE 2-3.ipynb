{
 "cells": [
  {
   "cell_type": "markdown",
   "metadata": {},
   "source": [
    "# Arjun N. Jalotjot BSCPE 2-3"
   ]
  },
  {
   "cell_type": "markdown",
   "metadata": {},
   "source": [
    "# Lab 2 Exercise 1"
   ]
  },
  {
   "cell_type": "code",
   "execution_count": 1,
   "metadata": {},
   "outputs": [],
   "source": [
    "#Arjun N. Jalotjot\n",
    "#BSCPE 1-3\n",
    "#DSA\n",
    "\n",
    "def power(base, exponent):\n",
    "    # Base case: any number to the power of 0 is 1\n",
    "    if exponent == 0:\n",
    "        return 1\n",
    "    # Recursive case: multiply the base by the power of (base, exponent-1)\n",
    "    return base * power(base, exponent - 1)\n",
    "\n",
    "# Main part of the program\n",
    "while True:\n",
    "    try:\n",
    "        # Input the base and exponent\n",
    "        base = int(input(\"Enter the base (a number): \"))\n",
    "        exponent = int(input(\"Enter the exponent (a non-negative integer): \"))\n",
    "        \n",
    "        if exponent < 0:\n",
    "            raise ValueError(\"Exponent must be a non-negative integer.\")\n",
    "        \n",
    "        # Calculate and display the result\n",
    "        result = power(base, exponent)\n",
    "        print(f\"{base}^{exponent} = {result}\")\n",
    "        break  # Exit the loop if input is valid\n",
    "\n",
    "    except ValueError as e:\n",
    "        print(f\"Error: {e}. Please try again.\")\n"
   ]
  },
  {
   "cell_type": "markdown",
   "metadata": {},
   "source": [
    "# Lab 2 Exercise 2"
   ]
  },
  {
   "cell_type": "code",
   "execution_count": 2,
   "metadata": {},
   "outputs": [],
   "source": [
    "#Arjun N. Jalotjot\n",
    "#BSCPE 1-3\n",
    "#DSA\n",
    "\n",
    "while True:\n",
    "    try:\n",
    "        # Step 1: Input the size of the array\n",
    "        size = int(input(\"Enter the size of the array: \"))\n",
    "        if size <= 0:\n",
    "            raise ValueError(\"Size must be a positive integer.\")\n",
    "\n",
    "        # Step 2: Input the elements of the array\n",
    "        elements = input(\"Enter the elements separated by space: \").split()\n",
    "\n",
    "        # Ensure the correct number of elements is provided\n",
    "        if len(elements) != size:\n",
    "            raise ValueError(f\"You must enter exactly {size} elements.\")\n",
    "\n",
    "        # Convert input strings to integers\n",
    "        elements = [int(num) for num in elements]\n",
    "\n",
    "        # Step 3: Display the cube of each element\n",
    "        for element in elements:\n",
    "            print(element ** 3)\n",
    "\n",
    "        break  # Exit the loop if everything is correct\n",
    "\n",
    "    except ValueError as e:\n",
    "        print(f\"Error: {e}. Please try again.\")\n"
   ]
  },
  {
   "cell_type": "markdown",
   "metadata": {},
   "source": [
    "# Lab 2 Exercise 3"
   ]
  },
  {
   "cell_type": "code",
   "execution_count": 3,
   "metadata": {},
   "outputs": [
    {
     "name": "stdout",
     "output_type": "stream",
     "text": [
      "******\n",
      "*    *\n",
      "*    *\n",
      "*    *\n",
      "*    *\n",
      "******\n"
     ]
    }
   ],
   "source": [
    "#Arjun N. Jalotjot\n",
    "#BSCPE 1-3\n",
    "#DSA\n",
    "\n",
    "# Function to generate a hollow square\n",
    "def generate_hollow_square(n):\n",
    "    for i in range(n):\n",
    "        if i == 0 or i == n - 1:  # First and last row\n",
    "            print('x' * n)\n",
    "        else:  # Middle rows\n",
    "            print('x' + ' ' * (n - 2) + 'x')\n",
    "\n",
    "# Main part of the program\n",
    "while True:\n",
    "    try:\n",
    "        # Input the side length of the square\n",
    "        side_length = int(input(\"Enter the side length of the square: \"))\n",
    "        if side_length < 2:\n",
    "            raise ValueError(\"Side length must be at least 2.\")\n",
    "        \n",
    "        # Generate and display the hollow square\n",
    "        generate_hollow_square(side_length)\n",
    "        break  # Exit the loop if input is valid\n",
    "\n",
    "    except ValueError as e:\n",
    "        print(f\"Error: {e}. Please try again.\")\n"
   ]
  },
  {
   "cell_type": "markdown",
   "metadata": {},
   "source": [
    "# Lab 2 Exercise 4"
   ]
  },
  {
   "cell_type": "code",
   "execution_count": 4,
   "metadata": {},
   "outputs": [
    {
     "name": "stdout",
     "output_type": "stream",
     "text": [
      "*******\n",
      "******\n",
      "*****\n",
      "****\n",
      "***\n",
      "**\n",
      "*\n"
     ]
    }
   ],
   "source": [
    "#Arjun N. Jalotjot\n",
    "#BSCPE 1-3\n",
    "#DSA\n",
    "\n",
    "# Function to generate an inverted right triangle\n",
    "def generate_inverted_triangle(n):\n",
    "    for i in range(n, 0, -1):\n",
    "        print('*' * i)\n",
    "\n",
    "# Main part of the program\n",
    "while True:\n",
    "    try:\n",
    "        # Input the height of the triangle\n",
    "        height = int(input(\"Enter the height of the triangle: \"))\n",
    "        if height < 1:\n",
    "            raise ValueError(\"Height must be at least 1.\")\n",
    "        \n",
    "        # Generate and display the inverted triangle\n",
    "        generate_inverted_triangle(height)\n",
    "        break  # Exit the loop if input is valid\n",
    "\n",
    "    except ValueError as e:\n",
    "        print(f\"Error: {e}. Please try again.\")\n"
   ]
  }
 ],
 "metadata": {
  "kernelspec": {
   "display_name": "Python 3",
   "language": "python",
   "name": "python3"
  },
  "language_info": {
   "codemirror_mode": {
    "name": "ipython",
    "version": 3
   },
   "file_extension": ".py",
   "mimetype": "text/x-python",
   "name": "python",
   "nbconvert_exporter": "python",
   "pygments_lexer": "ipython3",
   "version": "3.11.9"
  }
 },
 "nbformat": 4,
 "nbformat_minor": 2
}
